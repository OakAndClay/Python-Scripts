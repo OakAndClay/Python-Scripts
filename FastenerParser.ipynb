{
 "cells": [
  {
   "cell_type": "code",
   "execution_count": 1,
   "id": "bc61b624-9197-433e-9a23-93c2c9f98de1",
   "metadata": {},
   "outputs": [],
   "source": [
    "import ezsheets"
   ]
  },
  {
   "cell_type": "code",
   "execution_count": 2,
   "id": "913f185e-9e96-476f-96c4-7bdca5fba14a",
   "metadata": {},
   "outputs": [],
   "source": [
    "ss = ezsheets.Spreadsheet('Sheet URL')"
   ]
  },
  {
   "cell_type": "code",
   "execution_count": 3,
   "id": "a7a74944-dcfa-4ab4-a85a-71b64b30ecb4",
   "metadata": {},
   "outputs": [],
   "source": [
    "sheet = ss['Fastener Parser List']"
   ]
  },
  {
   "cell_type": "code",
   "execution_count": 4,
   "id": "bf11fd89-7aaa-441b-b0b0-792bb17a78db",
   "metadata": {},
   "outputs": [],
   "source": [
    "def parens(cell):\n",
    "    parens = []\n",
    "    step = 0\n",
    "    for i in cell:\n",
    "        if i == '(':\n",
    "            parens += [step]\n",
    "            step += 1\n",
    "        elif i == ')':\n",
    "            parens += [step]\n",
    "            step += 1\n",
    "        else:\n",
    "            step += 1\n",
    "    return (parens)"
   ]
  },
  {
   "cell_type": "code",
   "execution_count": 5,
   "id": "e2765753-8bb3-4600-80ad-9c762eac03d3",
   "metadata": {},
   "outputs": [],
   "source": [
    "def cellQuantities(cell):\n",
    "    listOfParens = parens(cell)\n",
    "    quant = []\n",
    "    uniqueItems = int(((len(listOfParens))/2))\n",
    "    start = 0\n",
    "    stop = 1\n",
    "    if ((len(listOfParens)) % 2) == 0:\n",
    "        for i in range(uniqueItems):\n",
    "            if (listOfParens[start]+1) == (listOfParens[stop]-1):\n",
    "                quant.append(cell[(listOfParens[start]+1)])\n",
    "                start += 2\n",
    "                stop += 2\n",
    "            else:\n",
    "                quant.append(cell[(listOfParens[start]+1):(listOfParens[stop])])\n",
    "                start += 2\n",
    "                stop += 2\n",
    "        return (quant)\n",
    "    else:\n",
    "        return ('error - Information format is incorrect')"
   ]
  },
  {
   "cell_type": "code",
   "execution_count": 6,
   "id": "78926d47-ebe1-43bb-8822-3eefb92fc1ec",
   "metadata": {},
   "outputs": [],
   "source": [
    "def cellItems(cell):\n",
    "    listOfParens = parens(cell)\n",
    "    quant = []\n",
    "    uniqueItems = int(((len(listOfParens))/2))\n",
    "    start = 1\n",
    "    stop = 2\n",
    "    if ((len(listOfParens)) % 2) == 0:\n",
    "        for i in range(uniqueItems):\n",
    "            if i == (uniqueItems-1):\n",
    "                quant.append(cell[(listOfParens[start])+1:])\n",
    "            else:\n",
    "                quant.append(cell[(listOfParens[start])+1:(listOfParens[stop])])\n",
    "                start += 2\n",
    "                stop += 2\n",
    "        return (quant)\n",
    "    else:\n",
    "        return ('error - Information format is incorrect')"
   ]
  },
  {
   "cell_type": "code",
   "execution_count": 7,
   "id": "d0cb0b57-5560-4e56-9356-72ff5ea25da2",
   "metadata": {},
   "outputs": [],
   "source": [
    "def fastenerColumnSet(columnNumber):\n",
    "    fastenerColumn = sheet.getColumn(columnNumber)\n",
    "    row = 1\n",
    "    fastenerList = []\n",
    "    for i in fastenerColumn:\n",
    "        fastenerList += (cellItems((sheet [columnNumber, row])))\n",
    "        row += 1\n",
    "    fastenerSet = set(fastenerList)\n",
    "    return (fastenerSet)"
   ]
  },
  {
   "cell_type": "code",
   "execution_count": 8,
   "id": "c62e1627-ed0e-4948-9ec4-ea8b615812d9",
   "metadata": {},
   "outputs": [],
   "source": [
    "def findFastenerColumn(sheet):\n",
    "    column = 1\n",
    "    for i in sheet.getRow(1):\n",
    "        if i != 'Information':\n",
    "            column += 1\n",
    "        elif i == '':\n",
    "            print ('error - could not find Information Column')\n",
    "            break\n",
    "        else:\n",
    "            break\n",
    "    return (column)"
   ]
  },
  {
   "cell_type": "code",
   "execution_count": 9,
   "id": "f2f0ee47-5170-40f4-a52b-1798c1f50e57",
   "metadata": {},
   "outputs": [],
   "source": [
    "def findQtyColumn(sheet):\n",
    "    column = 1\n",
    "    for i in sheet.getRow(1):\n",
    "        if i != 'Qty':\n",
    "            column += 1\n",
    "        elif i == '':\n",
    "            print ('error - could not find Information Column')\n",
    "            break\n",
    "        else:\n",
    "            break\n",
    "    return (column)"
   ]
  },
  {
   "cell_type": "code",
   "execution_count": 10,
   "id": "ba167e75-a4a9-4d6e-9c15-0539f0cba2ad",
   "metadata": {},
   "outputs": [],
   "source": [
    "def fastenerCountColumns(sheet):\n",
    "    fastenerCulumnNumber = findFastenerColumn(sheet)\n",
    "    fastenerList = list(fastenerColumnSet(fastenerCulumnNumber))\n",
    "    fastenerList.sort()\n",
    "    column = 1\n",
    "    row = 1\n",
    "    for i in sheet.getRow(row):\n",
    "        if (sheet [column, row]) != '':\n",
    "            column += 1\n",
    "        else:\n",
    "            break\n",
    "    for i in fastenerList:\n",
    "        print(i)\n",
    "        (sheet [column, row]) = i\n",
    "        column += 1"
   ]
  },
  {
   "cell_type": "code",
   "execution_count": 11,
   "id": "ee2bb08b-b829-416d-a1ed-639f8cd816b2",
   "metadata": {},
   "outputs": [],
   "source": [
    "def propagateRowQuantity(row):\n",
    "    column = findFastenerColumn(sheet)\n",
    "    cell = sheet [column, row]\n",
    "    qtyColumn = findQtyColumn(sheet)\n",
    "    qty = sheet [qtyColumn, row]\n",
    "    fastenerQtyList = cellQuantities(cell)\n",
    "    fastenerItemList = cellItems(cell)\n",
    "    placeMarker = 0\n",
    "    if qty != '':\n",
    "        for item in fastenerItemList:\n",
    "            totalItemQty = (int(qty) * int(fastenerQtyList[placeMarker]))\n",
    "            placeMarker += 1\n",
    "            destinationMarker = 1\n",
    "            for i in sheet.getRow(1):\n",
    "                if item == i:\n",
    "                    sheet [destinationMarker, row] = totalItemQty\n",
    "                    break\n",
    "                else:\n",
    "                    destinationMarker += 1\n",
    "    else:\n",
    "        return()"
   ]
  },
  {
   "cell_type": "code",
   "execution_count": 12,
   "id": "826fa17d-b70d-4f9c-9fb6-f116176eea8c",
   "metadata": {},
   "outputs": [],
   "source": [
    "def propagateAllItemQuantities(sheet):\n",
    "    column = findFastenerColumn(sheet)\n",
    "    row = 1\n",
    "    for i in sheet.getColumn(column):\n",
    "        if row == 1:\n",
    "            row += 1\n",
    "            print(row)\n",
    "        else:\n",
    "            propagateRowQuantity(row)\n",
    "            row += 1\n",
    "            print(row)"
   ]
  },
  {
   "cell_type": "code",
   "execution_count": 13,
   "id": "70facc3b-cc01-4374-b388-981ebc9f0402",
   "metadata": {},
   "outputs": [],
   "source": [
    "def runIt(sheet):\n",
    "    sheet.refresh()\n",
    "    fastenerCountColumns(sheet)\n",
    "    propagateAllItemQuantities(sheet)"
   ]
  },
  {
   "cell_type": "code",
   "execution_count": null,
   "id": "9399e47e-f9be-4965-9638-dab626d22633",
   "metadata": {},
   "outputs": [],
   "source": [
    "runIt(sheet)"
   ]
  },
  {
   "cell_type": "code",
   "execution_count": null,
   "id": "f2dc2c10-9b1b-4480-9bc4-ad0ca8324b74",
   "metadata": {},
   "outputs": [],
   "source": []
  }
 ],
 "metadata": {
  "kernelspec": {
   "display_name": "Python 3 (ipykernel)",
   "language": "python",
   "name": "python3"
  },
  "language_info": {
   "codemirror_mode": {
    "name": "ipython",
    "version": 3
   },
   "file_extension": ".py",
   "mimetype": "text/x-python",
   "name": "python",
   "nbconvert_exporter": "python",
   "pygments_lexer": "ipython3",
   "version": "3.9.7"
  }
 },
 "nbformat": 4,
 "nbformat_minor": 5
}
